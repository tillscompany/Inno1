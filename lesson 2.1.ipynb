{
 "cells": [
  {
   "cell_type": "code",
   "execution_count": 1,
   "metadata": {},
   "outputs": [
    {
     "name": "stdout",
     "output_type": "stream",
     "text": [
      "Populating the interactive namespace from numpy and matplotlib\n"
     ]
    }
   ],
   "source": [
    "%pylab inline\n",
    "import numpy as np #импорт библиотеки для работы с массивами\n",
    "import pandas as pd #импорт библиотеки для работы с данными"
   ]
  },
  {
   "cell_type": "code",
   "execution_count": 2,
   "metadata": {},
   "outputs": [
    {
     "name": "stderr",
     "output_type": "stream",
     "text": [
      "C:\\ProgramData\\Anaconda3\\lib\\site-packages\\sklearn\\cross_validation.py:41: DeprecationWarning: This module was deprecated in version 0.18 in favor of the model_selection module into which all the refactored classes and functions are moved. Also note that the interface of the new CV iterators are different from that of this module. This module will be removed in 0.20.\n",
      "  \"This module will be removed in 0.20.\", DeprecationWarning)\n",
      "C:\\ProgramData\\Anaconda3\\lib\\site-packages\\sklearn\\grid_search.py:42: DeprecationWarning: This module was deprecated in version 0.18 in favor of the model_selection module into which all the refactored classes and functions are moved. This module will be removed in 0.20.\n",
      "  DeprecationWarning)\n"
     ]
    }
   ],
   "source": [
    "from sklearn.model_selection import train_test_split\n",
    "from sklearn import metrics\n",
    "from sklearn.grid_search import GridSearchCV"
   ]
  },
  {
   "cell_type": "code",
   "execution_count": 3,
   "metadata": {},
   "outputs": [],
   "source": [
    "from sklearn.neighbors import KNeighborsClassifier\n",
    "from sklearn.linear_model import LogisticRegression\n",
    "from sklearn.svm import SVC\n",
    "from sklearn.linear_model import SGDClassifier\n",
    "from sklearn.tree import DecisionTreeClassifier"
   ]
  },
  {
   "cell_type": "code",
   "execution_count": 4,
   "metadata": {},
   "outputs": [],
   "source": [
    "#считываем данные\n",
    "data = pd.read_csv(r'dataset for task-lesson2.csv',encoding='latin-1',sep=\";\")"
   ]
  },
  {
   "cell_type": "code",
   "execution_count": 5,
   "metadata": {},
   "outputs": [],
   "source": [
    "#оставляем только тех кто получил карту\n",
    "data=data[data['issued']==1]\n",
    "data=data.drop('issued',1)"
   ]
  },
  {
   "cell_type": "code",
   "execution_count": 6,
   "metadata": {},
   "outputs": [
    {
     "data": {
      "text/html": [
       "<div>\n",
       "<style scoped>\n",
       "    .dataframe tbody tr th:only-of-type {\n",
       "        vertical-align: middle;\n",
       "    }\n",
       "\n",
       "    .dataframe tbody tr th {\n",
       "        vertical-align: top;\n",
       "    }\n",
       "\n",
       "    .dataframe thead th {\n",
       "        text-align: right;\n",
       "    }\n",
       "</style>\n",
       "<table border=\"1\" class=\"dataframe\">\n",
       "  <thead>\n",
       "    <tr style=\"text-align: right;\">\n",
       "      <th></th>\n",
       "      <th>date of birth</th>\n",
       "      <th>age</th>\n",
       "      <th>sex</th>\n",
       "      <th>account</th>\n",
       "      <th>id</th>\n",
       "      <th>active</th>\n",
       "      <th>payroll</th>\n",
       "      <th>segment</th>\n",
       "    </tr>\n",
       "  </thead>\n",
       "  <tbody>\n",
       "    <tr>\n",
       "      <th>0</th>\n",
       "      <td>08.09.1940</td>\n",
       "      <td>76</td>\n",
       "      <td>Female</td>\n",
       "      <td>Long life deposit</td>\n",
       "      <td>01-0102-D-77792953</td>\n",
       "      <td>0</td>\n",
       "      <td>0</td>\n",
       "      <td>Retired</td>\n",
       "    </tr>\n",
       "    <tr>\n",
       "      <th>1</th>\n",
       "      <td>21.11.1967</td>\n",
       "      <td>49</td>\n",
       "      <td>Male</td>\n",
       "      <td>Long life deposit</td>\n",
       "      <td>01-0102-D-77789599</td>\n",
       "      <td>0</td>\n",
       "      <td>0</td>\n",
       "      <td>Workers</td>\n",
       "    </tr>\n",
       "    <tr>\n",
       "      <th>2</th>\n",
       "      <td>26.08.1958</td>\n",
       "      <td>58</td>\n",
       "      <td>Female</td>\n",
       "      <td>Long life deposit</td>\n",
       "      <td>01-0165-D-77799637</td>\n",
       "      <td>0</td>\n",
       "      <td>0</td>\n",
       "      <td>Retired</td>\n",
       "    </tr>\n",
       "    <tr>\n",
       "      <th>3</th>\n",
       "      <td>23.07.1951</td>\n",
       "      <td>65</td>\n",
       "      <td>Female</td>\n",
       "      <td>Long life deposit</td>\n",
       "      <td>01-0165-D-77796328</td>\n",
       "      <td>0</td>\n",
       "      <td>0</td>\n",
       "      <td>Retired</td>\n",
       "    </tr>\n",
       "    <tr>\n",
       "      <th>4</th>\n",
       "      <td>11.09.1954</td>\n",
       "      <td>62</td>\n",
       "      <td>Female</td>\n",
       "      <td>Long life deposit</td>\n",
       "      <td>01-0102-D-77797635</td>\n",
       "      <td>0</td>\n",
       "      <td>1</td>\n",
       "      <td>Retired</td>\n",
       "    </tr>\n",
       "  </tbody>\n",
       "</table>\n",
       "</div>"
      ],
      "text/plain": [
       "  date of birth  age     sex            account                  id  active  \\\n",
       "0    08.09.1940   76  Female  Long life deposit  01-0102-D-77792953       0   \n",
       "1    21.11.1967   49    Male  Long life deposit  01-0102-D-77789599       0   \n",
       "2    26.08.1958   58  Female  Long life deposit  01-0165-D-77799637       0   \n",
       "3    23.07.1951   65  Female  Long life deposit  01-0165-D-77796328       0   \n",
       "4    11.09.1954   62  Female  Long life deposit  01-0102-D-77797635       0   \n",
       "\n",
       "   payroll  segment  \n",
       "0        0  Retired  \n",
       "1        0  Workers  \n",
       "2        0  Retired  \n",
       "3        0  Retired  \n",
       "4        1  Retired  "
      ]
     },
     "execution_count": 6,
     "metadata": {},
     "output_type": "execute_result"
    }
   ],
   "source": [
    "data.head()"
   ]
  },
  {
   "cell_type": "code",
   "execution_count": 7,
   "metadata": {},
   "outputs": [
    {
     "data": {
      "text/plain": [
       "5783"
      ]
     },
     "execution_count": 7,
     "metadata": {},
     "output_type": "execute_result"
    }
   ],
   "source": [
    "len(data)"
   ]
  },
  {
   "cell_type": "markdown",
   "metadata": {},
   "source": [
    "*Смотрим уникальные аккаунты*"
   ]
  },
  {
   "cell_type": "code",
   "execution_count": 8,
   "metadata": {},
   "outputs": [
    {
     "data": {
      "text/plain": [
       "ABB individuals       3029\n",
       "Salary                2522\n",
       "Long life deposit      163\n",
       "Salary 6%               40\n",
       "Salary 3%               21\n",
       "001-Âêëàä Ñóáñèäèÿ       8\n",
       "Name: account, dtype: int64"
      ]
     },
     "execution_count": 8,
     "metadata": {},
     "output_type": "execute_result"
    }
   ],
   "source": [
    "data['account'].value_counts()"
   ]
  },
  {
   "cell_type": "markdown",
   "metadata": {},
   "source": [
    "*Удаляем ненужные классы*"
   ]
  },
  {
   "cell_type": "code",
   "execution_count": 9,
   "metadata": {},
   "outputs": [],
   "source": [
    "data = data[data['account']!='001-Âêëàä Ñóáñèäèÿ']"
   ]
  },
  {
   "cell_type": "code",
   "execution_count": 10,
   "metadata": {},
   "outputs": [
    {
     "data": {
      "text/plain": [
       "5775"
      ]
     },
     "execution_count": 10,
     "metadata": {},
     "output_type": "execute_result"
    }
   ],
   "source": [
    "len(data)"
   ]
  },
  {
   "cell_type": "code",
   "execution_count": 11,
   "metadata": {},
   "outputs": [
    {
     "data": {
      "text/plain": [
       "Female    4261\n",
       "Male      1513\n",
       "0            1\n",
       "Name: sex, dtype: int64"
      ]
     },
     "execution_count": 11,
     "metadata": {},
     "output_type": "execute_result"
    }
   ],
   "source": [
    "data['sex'].value_counts()"
   ]
  },
  {
   "cell_type": "code",
   "execution_count": 12,
   "metadata": {},
   "outputs": [],
   "source": [
    "\n",
    "data=data[data['sex']!='0']"
   ]
  },
  {
   "cell_type": "code",
   "execution_count": 13,
   "metadata": {},
   "outputs": [
    {
     "data": {
      "text/plain": [
       "5774"
      ]
     },
     "execution_count": 13,
     "metadata": {},
     "output_type": "execute_result"
    }
   ],
   "source": [
    "len(data)"
   ]
  },
  {
   "cell_type": "markdown",
   "metadata": {},
   "source": [
    "*Строим график по возрастам*"
   ]
  },
  {
   "cell_type": "code",
   "execution_count": 14,
   "metadata": {},
   "outputs": [
    {
     "data": {
      "text/plain": [
       "<matplotlib.axes._subplots.AxesSubplot at 0x1849fc98908>"
      ]
     },
     "execution_count": 14,
     "metadata": {},
     "output_type": "execute_result"
    },
    {
     "data": {
      "image/png": "[encoded data removed]",
      "text/plain": [
       "<Figure size 432x288 with 1 Axes>"
      ]
     },
     "metadata": {},
     "output_type": "display_data"
    }
   ],
   "source": [
    "data['age'].hist()"
   ]
  },
  {
   "cell_type": "markdown",
   "metadata": {},
   "source": [
    "**Подготовка данных**"
   ]
  },
  {
   "cell_type": "markdown",
   "metadata": {},
   "source": [
    "**sex:** 0 - Male, 1 - Female\n",
    "\n",
    "**account:** 0 - Long life deposit, 1 - Salary 6%\t\n",
    "\n",
    "**segment:** 0 - Workers, 1 - Retired"
   ]
  },
  {
   "cell_type": "code",
   "execution_count": 15,
   "metadata": {},
   "outputs": [],
   "source": [
    "def to_sex(x):\n",
    "    if x== 'Male':\n",
    "        return 0;\n",
    "    else:\n",
    "        return 1;\n",
    "data['sex']=data['sex'].apply(to_sex)\n",
    "def to_account(x1):\n",
    "    if x1== 'ABB individuals':\n",
    "        return 0;\n",
    "    else:\n",
    "        return 1;\n",
    "data['account']=data['account'].apply(to_account)\n",
    "def to_segment(x2):\n",
    "    if x2== 'Workers':\n",
    "        return 0;\n",
    "    else:\n",
    "        return 1;\n",
    "data['segment']=data['segment'].apply(to_segment)"
   ]
  },
  {
   "cell_type": "code",
   "execution_count": 16,
   "metadata": {},
   "outputs": [
    {
     "data": {
      "text/html": [
       "<div>\n",
       "<style scoped>\n",
       "    .dataframe tbody tr th:only-of-type {\n",
       "        vertical-align: middle;\n",
       "    }\n",
       "\n",
       "    .dataframe tbody tr th {\n",
       "        vertical-align: top;\n",
       "    }\n",
       "\n",
       "    .dataframe thead th {\n",
       "        text-align: right;\n",
       "    }\n",
       "</style>\n",
       "<table border=\"1\" class=\"dataframe\">\n",
       "  <thead>\n",
       "    <tr style=\"text-align: right;\">\n",
       "      <th></th>\n",
       "      <th>date of birth</th>\n",
       "      <th>age</th>\n",
       "      <th>sex</th>\n",
       "      <th>account</th>\n",
       "      <th>id</th>\n",
       "      <th>active</th>\n",
       "      <th>payroll</th>\n",
       "      <th>segment</th>\n",
       "    </tr>\n",
       "  </thead>\n",
       "  <tbody>\n",
       "    <tr>\n",
       "      <th>0</th>\n",
       "      <td>08.09.1940</td>\n",
       "      <td>76</td>\n",
       "      <td>1</td>\n",
       "      <td>1</td>\n",
       "      <td>01-0102-D-77792953</td>\n",
       "      <td>0</td>\n",
       "      <td>0</td>\n",
       "      <td>1</td>\n",
       "    </tr>\n",
       "    <tr>\n",
       "      <th>1</th>\n",
       "      <td>21.11.1967</td>\n",
       "      <td>49</td>\n",
       "      <td>0</td>\n",
       "      <td>1</td>\n",
       "      <td>01-0102-D-77789599</td>\n",
       "      <td>0</td>\n",
       "      <td>0</td>\n",
       "      <td>0</td>\n",
       "    </tr>\n",
       "    <tr>\n",
       "      <th>2</th>\n",
       "      <td>26.08.1958</td>\n",
       "      <td>58</td>\n",
       "      <td>1</td>\n",
       "      <td>1</td>\n",
       "      <td>01-0165-D-77799637</td>\n",
       "      <td>0</td>\n",
       "      <td>0</td>\n",
       "      <td>1</td>\n",
       "    </tr>\n",
       "    <tr>\n",
       "      <th>3</th>\n",
       "      <td>23.07.1951</td>\n",
       "      <td>65</td>\n",
       "      <td>1</td>\n",
       "      <td>1</td>\n",
       "      <td>01-0165-D-77796328</td>\n",
       "      <td>0</td>\n",
       "      <td>0</td>\n",
       "      <td>1</td>\n",
       "    </tr>\n",
       "    <tr>\n",
       "      <th>4</th>\n",
       "      <td>11.09.1954</td>\n",
       "      <td>62</td>\n",
       "      <td>1</td>\n",
       "      <td>1</td>\n",
       "      <td>01-0102-D-77797635</td>\n",
       "      <td>0</td>\n",
       "      <td>1</td>\n",
       "      <td>1</td>\n",
       "    </tr>\n",
       "  </tbody>\n",
       "</table>\n",
       "</div>"
      ],
      "text/plain": [
       "  date of birth  age  sex  account                  id  active  payroll  \\\n",
       "0    08.09.1940   76    1        1  01-0102-D-77792953       0        0   \n",
       "1    21.11.1967   49    0        1  01-0102-D-77789599       0        0   \n",
       "2    26.08.1958   58    1        1  01-0165-D-77799637       0        0   \n",
       "3    23.07.1951   65    1        1  01-0165-D-77796328       0        0   \n",
       "4    11.09.1954   62    1        1  01-0102-D-77797635       0        1   \n",
       "\n",
       "   segment  \n",
       "0        1  \n",
       "1        0  \n",
       "2        1  \n",
       "3        1  \n",
       "4        1  "
      ]
     },
     "execution_count": 16,
     "metadata": {},
     "output_type": "execute_result"
    }
   ],
   "source": [
    "data.head()"
   ]
  },
  {
   "cell_type": "code",
   "execution_count": 17,
   "metadata": {},
   "outputs": [],
   "source": [
    "data['18-34']=data.age.apply(lambda x:1 if x<35 else 0)\n",
    "data['35-54']=data.age.apply(lambda x:1 if x>=35 and x<55 else 0)\n",
    "data['55+']=data.age.apply(lambda x:1 if x>=55 else 0)"
   ]
  },
  {
   "cell_type": "code",
   "execution_count": 18,
   "metadata": {},
   "outputs": [
    {
     "data": {
      "text/html": [
       "<div>\n",
       "<style scoped>\n",
       "    .dataframe tbody tr th:only-of-type {\n",
       "        vertical-align: middle;\n",
       "    }\n",
       "\n",
       "    .dataframe tbody tr th {\n",
       "        vertical-align: top;\n",
       "    }\n",
       "\n",
       "    .dataframe thead th {\n",
       "        text-align: right;\n",
       "    }\n",
       "</style>\n",
       "<table border=\"1\" class=\"dataframe\">\n",
       "  <thead>\n",
       "    <tr style=\"text-align: right;\">\n",
       "      <th></th>\n",
       "      <th>date of birth</th>\n",
       "      <th>age</th>\n",
       "      <th>sex</th>\n",
       "      <th>account</th>\n",
       "      <th>id</th>\n",
       "      <th>active</th>\n",
       "      <th>payroll</th>\n",
       "      <th>segment</th>\n",
       "      <th>18-34</th>\n",
       "      <th>35-54</th>\n",
       "      <th>55+</th>\n",
       "    </tr>\n",
       "  </thead>\n",
       "  <tbody>\n",
       "    <tr>\n",
       "      <th>0</th>\n",
       "      <td>08.09.1940</td>\n",
       "      <td>76</td>\n",
       "      <td>1</td>\n",
       "      <td>1</td>\n",
       "      <td>01-0102-D-77792953</td>\n",
       "      <td>0</td>\n",
       "      <td>0</td>\n",
       "      <td>1</td>\n",
       "      <td>0</td>\n",
       "      <td>0</td>\n",
       "      <td>1</td>\n",
       "    </tr>\n",
       "    <tr>\n",
       "      <th>1</th>\n",
       "      <td>21.11.1967</td>\n",
       "      <td>49</td>\n",
       "      <td>0</td>\n",
       "      <td>1</td>\n",
       "      <td>01-0102-D-77789599</td>\n",
       "      <td>0</td>\n",
       "      <td>0</td>\n",
       "      <td>0</td>\n",
       "      <td>0</td>\n",
       "      <td>1</td>\n",
       "      <td>0</td>\n",
       "    </tr>\n",
       "    <tr>\n",
       "      <th>2</th>\n",
       "      <td>26.08.1958</td>\n",
       "      <td>58</td>\n",
       "      <td>1</td>\n",
       "      <td>1</td>\n",
       "      <td>01-0165-D-77799637</td>\n",
       "      <td>0</td>\n",
       "      <td>0</td>\n",
       "      <td>1</td>\n",
       "      <td>0</td>\n",
       "      <td>0</td>\n",
       "      <td>1</td>\n",
       "    </tr>\n",
       "    <tr>\n",
       "      <th>3</th>\n",
       "      <td>23.07.1951</td>\n",
       "      <td>65</td>\n",
       "      <td>1</td>\n",
       "      <td>1</td>\n",
       "      <td>01-0165-D-77796328</td>\n",
       "      <td>0</td>\n",
       "      <td>0</td>\n",
       "      <td>1</td>\n",
       "      <td>0</td>\n",
       "      <td>0</td>\n",
       "      <td>1</td>\n",
       "    </tr>\n",
       "    <tr>\n",
       "      <th>4</th>\n",
       "      <td>11.09.1954</td>\n",
       "      <td>62</td>\n",
       "      <td>1</td>\n",
       "      <td>1</td>\n",
       "      <td>01-0102-D-77797635</td>\n",
       "      <td>0</td>\n",
       "      <td>1</td>\n",
       "      <td>1</td>\n",
       "      <td>0</td>\n",
       "      <td>0</td>\n",
       "      <td>1</td>\n",
       "    </tr>\n",
       "  </tbody>\n",
       "</table>\n",
       "</div>"
      ],
      "text/plain": [
       "  date of birth  age  sex  account                  id  active  payroll  \\\n",
       "0    08.09.1940   76    1        1  01-0102-D-77792953       0        0   \n",
       "1    21.11.1967   49    0        1  01-0102-D-77789599       0        0   \n",
       "2    26.08.1958   58    1        1  01-0165-D-77799637       0        0   \n",
       "3    23.07.1951   65    1        1  01-0165-D-77796328       0        0   \n",
       "4    11.09.1954   62    1        1  01-0102-D-77797635       0        1   \n",
       "\n",
       "   segment  18-34  35-54  55+  \n",
       "0        1      0      0    1  \n",
       "1        0      0      1    0  \n",
       "2        1      0      0    1  \n",
       "3        1      0      0    1  \n",
       "4        1      0      0    1  "
      ]
     },
     "execution_count": 18,
     "metadata": {},
     "output_type": "execute_result"
    }
   ],
   "source": [
    "data.head()"
   ]
  },
  {
   "cell_type": "markdown",
   "metadata": {},
   "source": [
    "*Сравнение количества мужчин и женщин*"
   ]
  },
  {
   "cell_type": "code",
   "execution_count": 19,
   "metadata": {},
   "outputs": [
    {
     "data": {
      "text/plain": [
       "Text(0.5,1,\"Clients' sex distribution\")"
      ]
     },
     "execution_count": 19,
     "metadata": {},
     "output_type": "execute_result"
    },
    {
     "data": {
      "image/png": "[encoded data removed]",
      "text/plain": [
       "<Figure size 360x288 with 1 Axes>"
      ]
     },
     "metadata": {},
     "output_type": "display_data"
    }
   ],
   "source": [
    "data.sex.value_counts().plot(kind='bar',color=['lightblue','lightgreen'],figsize=(5,4))\n",
    "xticks([1,0],['Male','Female'])\n",
    "title('Clients\\' sex distribution')"
   ]
  },
  {
   "cell_type": "code",
   "execution_count": 20,
   "metadata": {},
   "outputs": [
    {
     "data": {
      "text/plain": [
       "0    4959\n",
       "1     815\n",
       "Name: active, dtype: int64"
      ]
     },
     "execution_count": 20,
     "metadata": {},
     "output_type": "execute_result"
    }
   ],
   "source": [
    "data.active.value_counts()"
   ]
  },
  {
   "cell_type": "code",
   "execution_count": 21,
   "metadata": {},
   "outputs": [
    {
     "data": {
      "text/plain": [
       "Text(0.5,1,\"Clients' activity distribution\")"
      ]
     },
     "execution_count": 21,
     "metadata": {},
     "output_type": "execute_result"
    },
    {
     "data": {
      "image/png": "[encoded data removed]",
      "text/plain": [
       "<Figure size 360x288 with 1 Axes>"
      ]
     },
     "metadata": {},
     "output_type": "display_data"
    }
   ],
   "source": [
    "data.active.value_counts(normalize=True).plot(kind='bar', figsize=(5,4)) #, color=['lightblue', 'lightgreen']\n",
    "xticks([1, 0], ['Active', 'Not active'])\n",
    "title('Clients\\' activity distribution')"
   ]
  },
  {
   "cell_type": "markdown",
   "metadata": {},
   "source": [
    "*Описание класса*"
   ]
  },
  {
   "cell_type": "code",
   "execution_count": 22,
   "metadata": {},
   "outputs": [
    {
     "data": {
      "text/plain": [
       "count    5774.000000\n",
       "mean       49.438517\n",
       "std        15.005096\n",
       "min        16.000000\n",
       "25%        38.000000\n",
       "50%        49.000000\n",
       "75%        61.000000\n",
       "max        95.000000\n",
       "Name: age, dtype: float64"
      ]
     },
     "execution_count": 22,
     "metadata": {},
     "output_type": "execute_result"
    }
   ],
   "source": [
    "data.age.describe()"
   ]
  },
  {
   "cell_type": "code",
   "execution_count": 23,
   "metadata": {},
   "outputs": [],
   "source": [
    "y=data['active']\n",
    "X=data[['active','age','18-34','35-54','55+','sex','account','payroll','segment']]"
   ]
  },
  {
   "cell_type": "code",
   "execution_count": 24,
   "metadata": {},
   "outputs": [],
   "source": [
    "x_train,x_test,y_train,y_test=train_test_split(X,y,test_size=0.33,random_state=42)"
   ]
  },
  {
   "cell_type": "markdown",
   "metadata": {},
   "source": [
    "**Увеличим количество обьектов миноритарного класс в train set(oversampling)**"
   ]
  },
  {
   "cell_type": "code",
   "execution_count": 25,
   "metadata": {},
   "outputs": [],
   "source": [
    "\n",
    "def oversample(x_train1,x_test):\n",
    "    x_train=x_train1\n",
    "    \n",
    "    x_train=x_train.append(x_train1[x_train1['active']==1])\n",
    "    x_train=x_train.append(x_train1[x_train1['active']==1])\n",
    "    \n",
    "    x_train=x_train.sample(frac=1).reset_index(drop=True)\n",
    "    y_train=x_train['active']\n",
    "    x_train=x_train.drop('active',1)\n",
    "    x_test=x_test.drop('active',1)\n",
    "    return x_train,y_train,x_test\n",
    "x_train,y_train,x_test=oversample(x_train,x_test)"
   ]
  },
  {
   "cell_type": "markdown",
   "metadata": {},
   "source": [
    "**Обучаем модель**"
   ]
  },
  {
   "cell_type": "code",
   "execution_count": 26,
   "metadata": {},
   "outputs": [],
   "source": [
    "\n",
    "def check_models(feature_sets,models):\n",
    "    i=0\n",
    "    for f in feature_sets:\n",
    "        print(i)\n",
    "        x=data[f]\n",
    "        y=data['active']\n",
    "        x_train,x_test,y_train,y_test=train_test_split(x,y,test_size=0.33,random_state=48)\n",
    "        x_train,y_train,x_test=oversample(x_train,x_test)\n",
    "        for m in models:\n",
    "            m.fit(x_train,y_train)\n",
    "            predicted=m.predict(x_test)\n",
    "            print(m)\n",
    "            print(metrics.accuracy_score(y_test,predicted,normalize=True))\n",
    "            print(metrics.confusion_matrix(y_test,predicted))\n",
    "    i+=1"
   ]
  },
  {
   "cell_type": "markdown",
   "metadata": {},
   "source": [
    "*Берем рандомные классификаторы и прогоняем через них модель*"
   ]
  },
  {
   "cell_type": "code",
   "execution_count": 27,
   "metadata": {},
   "outputs": [],
   "source": [
    "feature_sets=[]\n",
    "feature_sets.append(['sex', 'account','active', 'payroll','segment', '18-34', '35-54', '55+'])\n",
    "feature_sets.append(['sex', 'account','active', 'payroll','segment', '18-34', '35-54', '55+'])\n",
    "models = []\n",
    "models.append(KNeighborsClassifier(n_neighbors=10))\n",
    "models.append(DecisionTreeClassifier())\n",
    "models.append(SVC())\n",
    "models.append(SGDClassifier())"
   ]
  },
  {
   "cell_type": "code",
   "execution_count": 28,
   "metadata": {},
   "outputs": [
    {
     "name": "stdout",
     "output_type": "stream",
     "text": [
      "0\n",
      "KNeighborsClassifier(algorithm='auto', leaf_size=30, metric='minkowski',\n",
      "           metric_params=None, n_jobs=1, n_neighbors=10, p=2,\n",
      "           weights='uniform')\n",
      "0.8373557187827911\n",
      "[[1558   88]\n",
      " [ 222   38]]\n",
      "DecisionTreeClassifier(class_weight=None, criterion='gini', max_depth=None,\n",
      "            max_features=None, max_leaf_nodes=None,\n",
      "            min_impurity_decrease=0.0, min_impurity_split=None,\n",
      "            min_samples_leaf=1, min_samples_split=2,\n",
      "            min_weight_fraction_leaf=0.0, presort=False, random_state=None,\n",
      "            splitter='best')\n",
      "0.829485834207765\n",
      "[[1545  101]\n",
      " [ 224   36]]\n",
      "SVC(C=1.0, cache_size=200, class_weight=None, coef0=0.0,\n",
      "  decision_function_shape='ovr', degree=3, gamma='auto', kernel='rbf',\n",
      "  max_iter=-1, probability=False, random_state=None, shrinking=True,\n",
      "  tol=0.001, verbose=False)\n",
      "0.8284365162644282\n",
      "[[1538  108]\n",
      " [ 219   41]]\n",
      "SGDClassifier(alpha=0.0001, average=False, class_weight=None, epsilon=0.1,\n",
      "       eta0=0.0, fit_intercept=True, l1_ratio=0.15,\n",
      "       learning_rate='optimal', loss='hinge', max_iter=None, n_iter=None,\n",
      "       n_jobs=1, penalty='l2', power_t=0.5, random_state=None,\n",
      "       shuffle=True, tol=None, verbose=0, warm_start=False)\n",
      "0.8142707240293809\n",
      "[[1498  148]\n",
      " [ 206   54]]\n",
      "0\n",
      "KNeighborsClassifier(algorithm='auto', leaf_size=30, metric='minkowski',\n",
      "           metric_params=None, n_jobs=1, n_neighbors=10, p=2,\n",
      "           weights='uniform')\n",
      "0.8394543546694648\n",
      "[[1578   68]\n",
      " [ 238   22]]\n",
      "DecisionTreeClassifier(class_weight=None, criterion='gini', max_depth=None,\n",
      "            max_features=None, max_leaf_nodes=None,\n",
      "            min_impurity_decrease=0.0, min_impurity_split=None,\n",
      "            min_samples_leaf=1, min_samples_split=2,\n",
      "            min_weight_fraction_leaf=0.0, presort=False, random_state=None,\n",
      "            splitter='best')\n",
      "0.829485834207765\n",
      "[[1545  101]\n",
      " [ 224   36]]\n"
     ]
    },
    {
     "name": "stderr",
     "output_type": "stream",
     "text": [
      "C:\\ProgramData\\Anaconda3\\lib\\site-packages\\sklearn\\linear_model\\stochastic_gradient.py:128: FutureWarning: max_iter and tol parameters have been added in <class 'sklearn.linear_model.stochastic_gradient.SGDClassifier'> in 0.19. If both are left unset, they default to max_iter=5 and tol=None. If tol is not None, max_iter defaults to max_iter=1000. From 0.21, default max_iter will be 1000, and default tol will be 1e-3.\n",
      "  \"and default tol will be 1e-3.\" % type(self), FutureWarning)\n"
     ]
    },
    {
     "name": "stdout",
     "output_type": "stream",
     "text": [
      "SVC(C=1.0, cache_size=200, class_weight=None, coef0=0.0,\n",
      "  decision_function_shape='ovr', degree=3, gamma='auto', kernel='rbf',\n",
      "  max_iter=-1, probability=False, random_state=None, shrinking=True,\n",
      "  tol=0.001, verbose=False)\n",
      "0.8284365162644282\n",
      "[[1538  108]\n",
      " [ 219   41]]\n",
      "SGDClassifier(alpha=0.0001, average=False, class_weight=None, epsilon=0.1,\n",
      "       eta0=0.0, fit_intercept=True, l1_ratio=0.15,\n",
      "       learning_rate='optimal', loss='hinge', max_iter=None, n_iter=None,\n",
      "       n_jobs=1, penalty='l2', power_t=0.5, random_state=None,\n",
      "       shuffle=True, tol=None, verbose=0, warm_start=False)\n",
      "0.8116474291710388\n",
      "[[1495  151]\n",
      " [ 208   52]]\n"
     ]
    },
    {
     "name": "stderr",
     "output_type": "stream",
     "text": [
      "C:\\ProgramData\\Anaconda3\\lib\\site-packages\\sklearn\\linear_model\\stochastic_gradient.py:128: FutureWarning: max_iter and tol parameters have been added in <class 'sklearn.linear_model.stochastic_gradient.SGDClassifier'> in 0.19. If both are left unset, they default to max_iter=5 and tol=None. If tol is not None, max_iter defaults to max_iter=1000. From 0.21, default max_iter will be 1000, and default tol will be 1e-3.\n",
      "  \"and default tol will be 1e-3.\" % type(self), FutureWarning)\n"
     ]
    }
   ],
   "source": [
    "check_models(feature_sets,models)"
   ]
  },
  {
   "cell_type": "markdown",
   "metadata": {},
   "source": [
    "**Оптимизация параметров модели**"
   ]
  },
  {
   "cell_type": "markdown",
   "metadata": {},
   "source": [
    "**LogisticRegression**"
   ]
  },
  {
   "cell_type": "code",
   "execution_count": 29,
   "metadata": {},
   "outputs": [],
   "source": [
    "#смотрим как улучшить результат работы\n",
    "y=data['active']\n",
    "X=data[['active','age','18-34','35-54','55+','sex','account','payroll','segment']]\n",
    "X,y,_ = oversample(X,data[['active','age']])\n"
   ]
  },
  {
   "cell_type": "code",
   "execution_count": 30,
   "metadata": {},
   "outputs": [],
   "source": [
    "param_grid = [{'penalty':['l1', 'l2'],\n",
    "               'C':[0.0001, 0.001, 0.01, 0.1, 0.5, 1, 1.2],\n",
    "               'tol':[0.00001, 0.0001, 0.001, 0.01, 0.1, 1, 0.5, 2]}]\n",
    "\n",
    "grid = GridSearchCV(LogisticRegression(), param_grid, scoring='roc_auc', verbose=2)"
   ]
  },
  {
   "cell_type": "code",
   "execution_count": 31,
   "metadata": {},
   "outputs": [
    {
     "name": "stdout",
     "output_type": "stream",
     "text": [
      "Fitting 3 folds for each of 112 candidates, totalling 336 fits\n",
      "[CV] C=0.0001, penalty=l1, tol=1e-05 .................................\n",
      "[CV] ........................ C=0.0001, penalty=l1, tol=1e-05 -   0.0s\n",
      "[CV] C=0.0001, penalty=l1, tol=1e-05 .................................\n",
      "[CV] ........................ C=0.0001, penalty=l1, tol=1e-05 -   0.0s\n",
      "[CV] C=0.0001, penalty=l1, tol=1e-05 .................................\n",
      "[CV] ........................ C=0.0001, penalty=l1, tol=1e-05 -   0.0s\n",
      "[CV] C=0.0001, penalty=l1, tol=0.0001 ................................\n",
      "[CV] ....................... C=0.0001, penalty=l1, tol=0.0001 -   0.0s\n",
      "[CV] C=0.0001, penalty=l1, tol=0.0001 ................................\n",
      "[CV] ....................... C=0.0001, penalty=l1, tol=0.0001 -   0.0s\n",
      "[CV] C=0.0001, penalty=l1, tol=0.0001 ................................\n",
      "[CV] ....................... C=0.0001, penalty=l1, tol=0.0001 -   0.0s\n",
      "[CV] C=0.0001, penalty=l1, tol=0.001 .................................\n",
      "[CV] ........................ C=0.0001, penalty=l1, tol=0.001 -   0.0s\n",
      "[CV] C=0.0001, penalty=l1, tol=0.001 .................................\n",
      "[CV] ........................ C=0.0001, penalty=l1, tol=0.001 -   0.0s\n",
      "[CV] C=0.0001, penalty=l1, tol=0.001 .................................\n",
      "[CV] ........................ C=0.0001, penalty=l1, tol=0.001 -   0.0s\n",
      "[CV] C=0.0001, penalty=l1, tol=0.01 ..................................\n",
      "[CV] ......................... C=0.0001, penalty=l1, tol=0.01 -   0.0s\n",
      "[CV] C=0.0001, penalty=l1, tol=0.01 ..................................\n",
      "[CV] ......................... C=0.0001, penalty=l1, tol=0.01 -   0.0s\n",
      "[CV] C=0.0001, penalty=l1, tol=0.01 ..................................\n",
      "[CV] ......................... C=0.0001, penalty=l1, tol=0.01 -   0.0s\n"
     ]
    },
    {
     "name": "stderr",
     "output_type": "stream",
     "text": [
      "[Parallel(n_jobs=1)]: Done   1 out of   1 | elapsed:    0.0s remaining:    0.0s\n"
     ]
    },
    {
     "name": "stdout",
     "output_type": "stream",
     "text": [
      "[CV] C=0.0001, penalty=l1, tol=0.1 ...................................\n",
      "[CV] .......................... C=0.0001, penalty=l1, tol=0.1 -   0.0s\n",
      "[CV] C=0.0001, penalty=l1, tol=0.1 ...................................\n",
      "[CV] .......................... C=0.0001, penalty=l1, tol=0.1 -   0.0s\n",
      "[CV] C=0.0001, penalty=l1, tol=0.1 ...................................\n",
      "[CV] .......................... C=0.0001, penalty=l1, tol=0.1 -   0.0s\n",
      "[CV] C=0.0001, penalty=l1, tol=1 .....................................\n",
      "[CV] ............................ C=0.0001, penalty=l1, tol=1 -   0.0s\n",
      "[CV] C=0.0001, penalty=l1, tol=1 .....................................\n",
      "[CV] ............................ C=0.0001, penalty=l1, tol=1 -   0.0s\n",
      "[CV] C=0.0001, penalty=l1, tol=1 .....................................\n",
      "[CV] ............................ C=0.0001, penalty=l1, tol=1 -   0.0s\n",
      "[CV] C=0.0001, penalty=l1, tol=0.5 ...................................\n",
      "[CV] .......................... C=0.0001, penalty=l1, tol=0.5 -   0.0s\n",
      "[CV] C=0.0001, penalty=l1, tol=0.5 ...................................\n",
      "[CV] .......................... C=0.0001, penalty=l1, tol=0.5 -   0.0s\n",
      "[CV] C=0.0001, penalty=l1, tol=0.5 ...................................\n",
      "[CV] .......................... C=0.0001, penalty=l1, tol=0.5 -   0.0s\n",
      "[CV] C=0.0001, penalty=l1, tol=2 .....................................\n",
      "[CV] ............................ C=0.0001, penalty=l1, tol=2 -   0.0s\n",
      "[CV] C=0.0001, penalty=l1, tol=2 .....................................\n",
      "[CV] ............................ C=0.0001, penalty=l1, tol=2 -   0.0s\n",
      "[CV] C=0.0001, penalty=l1, tol=2 .....................................\n",
      "[CV] ............................ C=0.0001, penalty=l1, tol=2 -   0.0s\n",
      "[CV] C=0.0001, penalty=l2, tol=1e-05 .................................\n",
      "[CV] ........................ C=0.0001, penalty=l2, tol=1e-05 -   0.0s\n",
      "[CV] C=0.0001, penalty=l2, tol=1e-05 .................................\n",
      "[CV] ........................ C=0.0001, penalty=l2, tol=1e-05 -   0.0s\n",
      "[CV] C=0.0001, penalty=l2, tol=1e-05 .................................\n",
      "[CV] ........................ C=0.0001, penalty=l2, tol=1e-05 -   0.0s\n",
      "[CV] C=0.0001, penalty=l2, tol=0.0001 ................................\n",
      "[CV] ....................... C=0.0001, penalty=l2, tol=0.0001 -   0.0s\n",
      "[CV] C=0.0001, penalty=l2, tol=0.0001 ................................\n",
      "[CV] ....................... C=0.0001, penalty=l2, tol=0.0001 -   0.0s\n",
      "[CV] C=0.0001, penalty=l2, tol=0.0001 ................................\n",
      "[CV] ....................... C=0.0001, penalty=l2, tol=0.0001 -   0.0s\n",
      "[CV] C=0.0001, penalty=l2, tol=0.001 .................................\n",
      "[CV] ........................ C=0.0001, penalty=l2, tol=0.001 -   0.0s\n",
      "[CV] C=0.0001, penalty=l2, tol=0.001 .................................\n",
      "[CV] ........................ C=0.0001, penalty=l2, tol=0.001 -   0.0s\n",
      "[CV] C=0.0001, penalty=l2, tol=0.001 .................................\n",
      "[CV] ........................ C=0.0001, penalty=l2, tol=0.001 -   0.0s\n",
      "[CV] C=0.0001, penalty=l2, tol=0.01 ..................................\n",
      "[CV] ......................... C=0.0001, penalty=l2, tol=0.01 -   0.0s\n",
      "[CV] C=0.0001, penalty=l2, tol=0.01 ..................................\n",
      "[CV] ......................... C=0.0001, penalty=l2, tol=0.01 -   0.0s\n",
      "[CV] C=0.0001, penalty=l2, tol=0.01 ..................................\n",
      "[CV] ......................... C=0.0001, penalty=l2, tol=0.01 -   0.0s\n",
      "[CV] C=0.0001, penalty=l2, tol=0.1 ...................................\n",
      "[CV] .......................... C=0.0001, penalty=l2, tol=0.1 -   0.0s\n",
      "[CV] C=0.0001, penalty=l2, tol=0.1 ...................................\n",
      "[CV] .......................... C=0.0001, penalty=l2, tol=0.1 -   0.0s\n",
      "[CV] C=0.0001, penalty=l2, tol=0.1 ...................................\n",
      "[CV] .......................... C=0.0001, penalty=l2, tol=0.1 -   0.0s\n",
      "[CV] C=0.0001, penalty=l2, tol=1 .....................................\n",
      "[CV] ............................ C=0.0001, penalty=l2, tol=1 -   0.0s\n",
      "[CV] C=0.0001, penalty=l2, tol=1 .....................................\n",
      "[CV] ............................ C=0.0001, penalty=l2, tol=1 -   0.0s\n",
      "[CV] C=0.0001, penalty=l2, tol=1 .....................................\n",
      "[CV] ............................ C=0.0001, penalty=l2, tol=1 -   0.0s\n",
      "[CV] C=0.0001, penalty=l2, tol=0.5 ...................................\n",
      "[CV] .......................... C=0.0001, penalty=l2, tol=0.5 -   0.0s\n",
      "[CV] C=0.0001, penalty=l2, tol=0.5 ...................................\n",
      "[CV] .......................... C=0.0001, penalty=l2, tol=0.5 -   0.0s\n",
      "[CV] C=0.0001, penalty=l2, tol=0.5 ...................................\n",
      "[CV] .......................... C=0.0001, penalty=l2, tol=0.5 -   0.0s\n",
      "[CV] C=0.0001, penalty=l2, tol=2 .....................................\n",
      "[CV] ............................ C=0.0001, penalty=l2, tol=2 -   0.0s\n",
      "[CV] C=0.0001, penalty=l2, tol=2 .....................................\n",
      "[CV] ............................ C=0.0001, penalty=l2, tol=2 -   0.0s\n",
      "[CV] C=0.0001, penalty=l2, tol=2 .....................................\n",
      "[CV] ............................ C=0.0001, penalty=l2, tol=2 -   0.0s\n",
      "[CV] C=0.001, penalty=l1, tol=1e-05 ..................................\n",
      "[CV] ......................... C=0.001, penalty=l1, tol=1e-05 -   0.0s\n",
      "[CV] C=0.001, penalty=l1, tol=1e-05 ..................................\n",
      "[CV] ......................... C=0.001, penalty=l1, tol=1e-05 -   0.0s\n",
      "[CV] C=0.001, penalty=l1, tol=1e-05 ..................................\n",
      "[CV] ......................... C=0.001, penalty=l1, tol=1e-05 -   0.0s\n",
      "[CV] C=0.001, penalty=l1, tol=0.0001 .................................\n",
      "[CV] ........................ C=0.001, penalty=l1, tol=0.0001 -   0.0s\n",
      "[CV] C=0.001, penalty=l1, tol=0.0001 .................................\n",
      "[CV] ........................ C=0.001, penalty=l1, tol=0.0001 -   0.0s\n",
      "[CV] C=0.001, penalty=l1, tol=0.0001 .................................\n",
      "[CV] ........................ C=0.001, penalty=l1, tol=0.0001 -   0.0s\n",
      "[CV] C=0.001, penalty=l1, tol=0.001 ..................................\n",
      "[CV] ......................... C=0.001, penalty=l1, tol=0.001 -   0.0s\n",
      "[CV] C=0.001, penalty=l1, tol=0.001 ..................................\n",
      "[CV] ......................... C=0.001, penalty=l1, tol=0.001 -   0.0s\n",
      "[CV] C=0.001, penalty=l1, tol=0.001 ..................................\n",
      "[CV] ......................... C=0.001, penalty=l1, tol=0.001 -   0.0s\n",
      "[CV] C=0.001, penalty=l1, tol=0.01 ...................................\n",
      "[CV] .......................... C=0.001, penalty=l1, tol=0.01 -   0.0s\n",
      "[CV] C=0.001, penalty=l1, tol=0.01 ...................................\n",
      "[CV] .......................... C=0.001, penalty=l1, tol=0.01 -   0.0s\n",
      "[CV] C=0.001, penalty=l1, tol=0.01 ...................................\n",
      "[CV] .......................... C=0.001, penalty=l1, tol=0.01 -   0.0s\n",
      "[CV] C=0.001, penalty=l1, tol=0.1 ....................................\n",
      "[CV] ........................... C=0.001, penalty=l1, tol=0.1 -   0.0s\n",
      "[CV] C=0.001, penalty=l1, tol=0.1 ....................................\n",
      "[CV] ........................... C=0.001, penalty=l1, tol=0.1 -   0.0s\n",
      "[CV] C=0.001, penalty=l1, tol=0.1 ....................................\n",
      "[CV] ........................... C=0.001, penalty=l1, tol=0.1 -   0.0s\n",
      "[CV] C=0.001, penalty=l1, tol=1 ......................................\n",
      "[CV] ............................. C=0.001, penalty=l1, tol=1 -   0.0s\n",
      "[CV] C=0.001, penalty=l1, tol=1 ......................................\n",
      "[CV] ............................. C=0.001, penalty=l1, tol=1 -   0.0s\n",
      "[CV] C=0.001, penalty=l1, tol=1 ......................................\n",
      "[CV] ............................. C=0.001, penalty=l1, tol=1 -   0.0s\n",
      "[CV] C=0.001, penalty=l1, tol=0.5 ....................................\n",
      "[CV] ........................... C=0.001, penalty=l1, tol=0.5 -   0.0s\n",
      "[CV] C=0.001, penalty=l1, tol=0.5 ....................................\n",
      "[CV] ........................... C=0.001, penalty=l1, tol=0.5 -   0.0s\n",
      "[CV] C=0.001, penalty=l1, tol=0.5 ....................................\n",
      "[CV] ........................... C=0.001, penalty=l1, tol=0.5 -   0.0s\n",
      "[CV] C=0.001, penalty=l1, tol=2 ......................................\n",
      "[CV] ............................. C=0.001, penalty=l1, tol=2 -   0.0s\n",
      "[CV] C=0.001, penalty=l1, tol=2 ......................................\n",
      "[CV] ............................. C=0.001, penalty=l1, tol=2 -   0.0s\n",
      "[CV] C=0.001, penalty=l1, tol=2 ......................................\n",
      "[CV] ............................. C=0.001, penalty=l1, tol=2 -   0.0s\n",
      "[CV] C=0.001, penalty=l2, tol=1e-05 ..................................\n",
      "[CV] ......................... C=0.001, penalty=l2, tol=1e-05 -   0.0s\n",
      "[CV] C=0.001, penalty=l2, tol=1e-05 ..................................\n",
      "[CV] ......................... C=0.001, penalty=l2, tol=1e-05 -   0.0s\n",
      "[CV] C=0.001, penalty=l2, tol=1e-05 ..................................\n"
     ]
    },
    {
     "name": "stdout",
     "output_type": "stream",
     "text": [
      "[CV] ......................... C=0.001, penalty=l2, tol=1e-05 -   0.0s\n",
      "[CV] C=0.001, penalty=l2, tol=0.0001 .................................\n",
      "[CV] ........................ C=0.001, penalty=l2, tol=0.0001 -   0.0s\n",
      "[CV] C=0.001, penalty=l2, tol=0.0001 .................................\n",
      "[CV] ........................ C=0.001, penalty=l2, tol=0.0001 -   0.0s\n",
      "[CV] C=0.001, penalty=l2, tol=0.0001 .................................\n",
      "[CV] ........................ C=0.001, penalty=l2, tol=0.0001 -   0.0s\n",
      "[CV] C=0.001, penalty=l2, tol=0.001 ..................................\n",
      "[CV] ......................... C=0.001, penalty=l2, tol=0.001 -   0.0s\n",
      "[CV] C=0.001, penalty=l2, tol=0.001 ..................................\n",
      "[CV] ......................... C=0.001, penalty=l2, tol=0.001 -   0.0s\n",
      "[CV] C=0.001, penalty=l2, tol=0.001 ..................................\n",
      "[CV] ......................... C=0.001, penalty=l2, tol=0.001 -   0.0s\n",
      "[CV] C=0.001, penalty=l2, tol=0.01 ...................................\n",
      "[CV] .......................... C=0.001, penalty=l2, tol=0.01 -   0.0s\n",
      "[CV] C=0.001, penalty=l2, tol=0.01 ...................................\n",
      "[CV] .......................... C=0.001, penalty=l2, tol=0.01 -   0.0s\n",
      "[CV] C=0.001, penalty=l2, tol=0.01 ...................................\n",
      "[CV] .......................... C=0.001, penalty=l2, tol=0.01 -   0.0s\n",
      "[CV] C=0.001, penalty=l2, tol=0.1 ....................................\n",
      "[CV] ........................... C=0.001, penalty=l2, tol=0.1 -   0.0s\n",
      "[CV] C=0.001, penalty=l2, tol=0.1 ....................................\n",
      "[CV] ........................... C=0.001, penalty=l2, tol=0.1 -   0.0s\n",
      "[CV] C=0.001, penalty=l2, tol=0.1 ....................................\n",
      "[CV] ........................... C=0.001, penalty=l2, tol=0.1 -   0.0s\n",
      "[CV] C=0.001, penalty=l2, tol=1 ......................................\n",
      "[CV] ............................. C=0.001, penalty=l2, tol=1 -   0.0s\n",
      "[CV] C=0.001, penalty=l2, tol=1 ......................................\n",
      "[CV] ............................. C=0.001, penalty=l2, tol=1 -   0.0s\n",
      "[CV] C=0.001, penalty=l2, tol=1 ......................................\n",
      "[CV] ............................. C=0.001, penalty=l2, tol=1 -   0.0s\n",
      "[CV] C=0.001, penalty=l2, tol=0.5 ....................................\n",
      "[CV] ........................... C=0.001, penalty=l2, tol=0.5 -   0.0s\n",
      "[CV] C=0.001, penalty=l2, tol=0.5 ....................................\n",
      "[CV] ........................... C=0.001, penalty=l2, tol=0.5 -   0.0s\n",
      "[CV] C=0.001, penalty=l2, tol=0.5 ....................................\n",
      "[CV] ........................... C=0.001, penalty=l2, tol=0.5 -   0.0s\n",
      "[CV] C=0.001, penalty=l2, tol=2 ......................................\n",
      "[CV] ............................. C=0.001, penalty=l2, tol=2 -   0.0s\n",
      "[CV] C=0.001, penalty=l2, tol=2 ......................................\n",
      "[CV] ............................. C=0.001, penalty=l2, tol=2 -   0.0s\n",
      "[CV] C=0.001, penalty=l2, tol=2 ......................................\n",
      "[CV] ............................. C=0.001, penalty=l2, tol=2 -   0.0s\n",
      "[CV] C=0.01, penalty=l1, tol=1e-05 ...................................\n",
      "[CV] .......................... C=0.01, penalty=l1, tol=1e-05 -   0.0s\n",
      "[CV] C=0.01, penalty=l1, tol=1e-05 ...................................\n",
      "[CV] .......................... C=0.01, penalty=l1, tol=1e-05 -   0.0s\n",
      "[CV] C=0.01, penalty=l1, tol=1e-05 ...................................\n",
      "[CV] .......................... C=0.01, penalty=l1, tol=1e-05 -   0.0s\n",
      "[CV] C=0.01, penalty=l1, tol=0.0001 ..................................\n",
      "[CV] ......................... C=0.01, penalty=l1, tol=0.0001 -   0.0s\n",
      "[CV] C=0.01, penalty=l1, tol=0.0001 ..................................\n",
      "[CV] ......................... C=0.01, penalty=l1, tol=0.0001 -   0.0s\n",
      "[CV] C=0.01, penalty=l1, tol=0.0001 ..................................\n",
      "[CV] ......................... C=0.01, penalty=l1, tol=0.0001 -   0.0s\n",
      "[CV] C=0.01, penalty=l1, tol=0.001 ...................................\n",
      "[CV] .......................... C=0.01, penalty=l1, tol=0.001 -   0.0s\n",
      "[CV] C=0.01, penalty=l1, tol=0.001 ...................................\n",
      "[CV] .......................... C=0.01, penalty=l1, tol=0.001 -   0.0s\n",
      "[CV] C=0.01, penalty=l1, tol=0.001 ...................................\n",
      "[CV] .......................... C=0.01, penalty=l1, tol=0.001 -   0.0s\n",
      "[CV] C=0.01, penalty=l1, tol=0.01 ....................................\n",
      "[CV] ........................... C=0.01, penalty=l1, tol=0.01 -   0.0s\n",
      "[CV] C=0.01, penalty=l1, tol=0.01 ....................................\n",
      "[CV] ........................... C=0.01, penalty=l1, tol=0.01 -   0.0s\n",
      "[CV] C=0.01, penalty=l1, tol=0.01 ....................................\n",
      "[CV] ........................... C=0.01, penalty=l1, tol=0.01 -   0.0s\n",
      "[CV] C=0.01, penalty=l1, tol=0.1 .....................................\n",
      "[CV] ............................ C=0.01, penalty=l1, tol=0.1 -   0.0s\n",
      "[CV] C=0.01, penalty=l1, tol=0.1 .....................................\n",
      "[CV] ............................ C=0.01, penalty=l1, tol=0.1 -   0.0s\n",
      "[CV] C=0.01, penalty=l1, tol=0.1 .....................................\n",
      "[CV] ............................ C=0.01, penalty=l1, tol=0.1 -   0.0s\n",
      "[CV] C=0.01, penalty=l1, tol=1 .......................................\n",
      "[CV] .............................. C=0.01, penalty=l1, tol=1 -   0.0s\n",
      "[CV] C=0.01, penalty=l1, tol=1 .......................................\n",
      "[CV] .............................. C=0.01, penalty=l1, tol=1 -   0.0s\n",
      "[CV] C=0.01, penalty=l1, tol=1 .......................................\n",
      "[CV] .............................. C=0.01, penalty=l1, tol=1 -   0.0s\n",
      "[CV] C=0.01, penalty=l1, tol=0.5 .....................................\n",
      "[CV] ............................ C=0.01, penalty=l1, tol=0.5 -   0.0s\n",
      "[CV] C=0.01, penalty=l1, tol=0.5 .....................................\n",
      "[CV] ............................ C=0.01, penalty=l1, tol=0.5 -   0.0s\n",
      "[CV] C=0.01, penalty=l1, tol=0.5 .....................................\n",
      "[CV] ............................ C=0.01, penalty=l1, tol=0.5 -   0.0s\n",
      "[CV] C=0.01, penalty=l1, tol=2 .......................................\n",
      "[CV] .............................. C=0.01, penalty=l1, tol=2 -   0.0s\n",
      "[CV] C=0.01, penalty=l1, tol=2 .......................................\n",
      "[CV] .............................. C=0.01, penalty=l1, tol=2 -   0.0s\n",
      "[CV] C=0.01, penalty=l1, tol=2 .......................................\n",
      "[CV] .............................. C=0.01, penalty=l1, tol=2 -   0.0s\n",
      "[CV] C=0.01, penalty=l2, tol=1e-05 ...................................\n",
      "[CV] .......................... C=0.01, penalty=l2, tol=1e-05 -   0.0s\n",
      "[CV] C=0.01, penalty=l2, tol=1e-05 ...................................\n",
      "[CV] .......................... C=0.01, penalty=l2, tol=1e-05 -   0.0s\n",
      "[CV] C=0.01, penalty=l2, tol=1e-05 ...................................\n",
      "[CV] .......................... C=0.01, penalty=l2, tol=1e-05 -   0.0s\n",
      "[CV] C=0.01, penalty=l2, tol=0.0001 ..................................\n",
      "[CV] ......................... C=0.01, penalty=l2, tol=0.0001 -   0.0s\n",
      "[CV] C=0.01, penalty=l2, tol=0.0001 ..................................\n",
      "[CV] ......................... C=0.01, penalty=l2, tol=0.0001 -   0.0s\n",
      "[CV] C=0.01, penalty=l2, tol=0.0001 ..................................\n",
      "[CV] ......................... C=0.01, penalty=l2, tol=0.0001 -   0.0s\n",
      "[CV] C=0.01, penalty=l2, tol=0.001 ...................................\n",
      "[CV] .......................... C=0.01, penalty=l2, tol=0.001 -   0.0s\n",
      "[CV] C=0.01, penalty=l2, tol=0.001 ...................................\n",
      "[CV] .......................... C=0.01, penalty=l2, tol=0.001 -   0.0s\n",
      "[CV] C=0.01, penalty=l2, tol=0.001 ...................................\n",
      "[CV] .......................... C=0.01, penalty=l2, tol=0.001 -   0.0s\n",
      "[CV] C=0.01, penalty=l2, tol=0.01 ....................................\n",
      "[CV] ........................... C=0.01, penalty=l2, tol=0.01 -   0.0s\n",
      "[CV] C=0.01, penalty=l2, tol=0.01 ....................................\n",
      "[CV] ........................... C=0.01, penalty=l2, tol=0.01 -   0.0s\n",
      "[CV] C=0.01, penalty=l2, tol=0.01 ....................................\n",
      "[CV] ........................... C=0.01, penalty=l2, tol=0.01 -   0.0s\n",
      "[CV] C=0.01, penalty=l2, tol=0.1 .....................................\n",
      "[CV] ............................ C=0.01, penalty=l2, tol=0.1 -   0.0s\n",
      "[CV] C=0.01, penalty=l2, tol=0.1 .....................................\n",
      "[CV] ............................ C=0.01, penalty=l2, tol=0.1 -   0.0s\n",
      "[CV] C=0.01, penalty=l2, tol=0.1 .....................................\n",
      "[CV] ............................ C=0.01, penalty=l2, tol=0.1 -   0.0s\n",
      "[CV] C=0.01, penalty=l2, tol=1 .......................................\n",
      "[CV] .............................. C=0.01, penalty=l2, tol=1 -   0.0s\n",
      "[CV] C=0.01, penalty=l2, tol=1 .......................................\n",
      "[CV] .............................. C=0.01, penalty=l2, tol=1 -   0.0s\n",
      "[CV] C=0.01, penalty=l2, tol=1 .......................................\n",
      "[CV] .............................. C=0.01, penalty=l2, tol=1 -   0.0s\n",
      "[CV] C=0.01, penalty=l2, tol=0.5 .....................................\n"
     ]
    },
    {
     "name": "stdout",
     "output_type": "stream",
     "text": [
      "[CV] ............................ C=0.01, penalty=l2, tol=0.5 -   0.0s\n",
      "[CV] C=0.01, penalty=l2, tol=0.5 .....................................\n",
      "[CV] ............................ C=0.01, penalty=l2, tol=0.5 -   0.0s\n",
      "[CV] C=0.01, penalty=l2, tol=0.5 .....................................\n",
      "[CV] ............................ C=0.01, penalty=l2, tol=0.5 -   0.0s\n",
      "[CV] C=0.01, penalty=l2, tol=2 .......................................\n",
      "[CV] .............................. C=0.01, penalty=l2, tol=2 -   0.0s\n",
      "[CV] C=0.01, penalty=l2, tol=2 .......................................\n",
      "[CV] .............................. C=0.01, penalty=l2, tol=2 -   0.0s\n",
      "[CV] C=0.01, penalty=l2, tol=2 .......................................\n",
      "[CV] .............................. C=0.01, penalty=l2, tol=2 -   0.0s\n",
      "[CV] C=0.1, penalty=l1, tol=1e-05 ....................................\n",
      "[CV] ........................... C=0.1, penalty=l1, tol=1e-05 -   0.0s\n",
      "[CV] C=0.1, penalty=l1, tol=1e-05 ....................................\n",
      "[CV] ........................... C=0.1, penalty=l1, tol=1e-05 -   0.0s\n",
      "[CV] C=0.1, penalty=l1, tol=1e-05 ....................................\n",
      "[CV] ........................... C=0.1, penalty=l1, tol=1e-05 -   0.0s\n",
      "[CV] C=0.1, penalty=l1, tol=0.0001 ...................................\n",
      "[CV] .......................... C=0.1, penalty=l1, tol=0.0001 -   0.0s\n",
      "[CV] C=0.1, penalty=l1, tol=0.0001 ...................................\n",
      "[CV] .......................... C=0.1, penalty=l1, tol=0.0001 -   0.0s\n",
      "[CV] C=0.1, penalty=l1, tol=0.0001 ...................................\n",
      "[CV] .......................... C=0.1, penalty=l1, tol=0.0001 -   0.0s\n",
      "[CV] C=0.1, penalty=l1, tol=0.001 ....................................\n",
      "[CV] ........................... C=0.1, penalty=l1, tol=0.001 -   0.0s\n",
      "[CV] C=0.1, penalty=l1, tol=0.001 ....................................\n",
      "[CV] ........................... C=0.1, penalty=l1, tol=0.001 -   0.0s\n",
      "[CV] C=0.1, penalty=l1, tol=0.001 ....................................\n",
      "[CV] ........................... C=0.1, penalty=l1, tol=0.001 -   0.0s\n",
      "[CV] C=0.1, penalty=l1, tol=0.01 .....................................\n",
      "[CV] ............................ C=0.1, penalty=l1, tol=0.01 -   0.0s\n",
      "[CV] C=0.1, penalty=l1, tol=0.01 .....................................\n",
      "[CV] ............................ C=0.1, penalty=l1, tol=0.01 -   0.0s\n",
      "[CV] C=0.1, penalty=l1, tol=0.01 .....................................\n",
      "[CV] ............................ C=0.1, penalty=l1, tol=0.01 -   0.0s\n",
      "[CV] C=0.1, penalty=l1, tol=0.1 ......................................\n",
      "[CV] ............................. C=0.1, penalty=l1, tol=0.1 -   0.0s\n",
      "[CV] C=0.1, penalty=l1, tol=0.1 ......................................\n",
      "[CV] ............................. C=0.1, penalty=l1, tol=0.1 -   0.0s\n",
      "[CV] C=0.1, penalty=l1, tol=0.1 ......................................\n",
      "[CV] ............................. C=0.1, penalty=l1, tol=0.1 -   0.0s\n",
      "[CV] C=0.1, penalty=l1, tol=1 ........................................\n",
      "[CV] ............................... C=0.1, penalty=l1, tol=1 -   0.0s\n",
      "[CV] C=0.1, penalty=l1, tol=1 ........................................\n",
      "[CV] ............................... C=0.1, penalty=l1, tol=1 -   0.0s\n",
      "[CV] C=0.1, penalty=l1, tol=1 ........................................\n",
      "[CV] ............................... C=0.1, penalty=l1, tol=1 -   0.0s\n",
      "[CV] C=0.1, penalty=l1, tol=0.5 ......................................\n",
      "[CV] ............................. C=0.1, penalty=l1, tol=0.5 -   0.0s\n",
      "[CV] C=0.1, penalty=l1, tol=0.5 ......................................\n",
      "[CV] ............................. C=0.1, penalty=l1, tol=0.5 -   0.0s\n",
      "[CV] C=0.1, penalty=l1, tol=0.5 ......................................\n",
      "[CV] ............................. C=0.1, penalty=l1, tol=0.5 -   0.0s\n",
      "[CV] C=0.1, penalty=l1, tol=2 ........................................\n",
      "[CV] ............................... C=0.1, penalty=l1, tol=2 -   0.0s\n",
      "[CV] C=0.1, penalty=l1, tol=2 ........................................\n",
      "[CV] ............................... C=0.1, penalty=l1, tol=2 -   0.0s\n",
      "[CV] C=0.1, penalty=l1, tol=2 ........................................\n",
      "[CV] ............................... C=0.1, penalty=l1, tol=2 -   0.0s\n",
      "[CV] C=0.1, penalty=l2, tol=1e-05 ....................................\n",
      "[CV] ........................... C=0.1, penalty=l2, tol=1e-05 -   0.0s\n",
      "[CV] C=0.1, penalty=l2, tol=1e-05 ....................................\n",
      "[CV] ........................... C=0.1, penalty=l2, tol=1e-05 -   0.0s\n",
      "[CV] C=0.1, penalty=l2, tol=1e-05 ....................................\n",
      "[CV] ........................... C=0.1, penalty=l2, tol=1e-05 -   0.0s\n",
      "[CV] C=0.1, penalty=l2, tol=0.0001 ...................................\n",
      "[CV] .......................... C=0.1, penalty=l2, tol=0.0001 -   0.0s\n",
      "[CV] C=0.1, penalty=l2, tol=0.0001 ...................................\n",
      "[CV] .......................... C=0.1, penalty=l2, tol=0.0001 -   0.0s\n",
      "[CV] C=0.1, penalty=l2, tol=0.0001 ...................................\n",
      "[CV] .......................... C=0.1, penalty=l2, tol=0.0001 -   0.0s\n",
      "[CV] C=0.1, penalty=l2, tol=0.001 ....................................\n",
      "[CV] ........................... C=0.1, penalty=l2, tol=0.001 -   0.0s\n",
      "[CV] C=0.1, penalty=l2, tol=0.001 ....................................\n",
      "[CV] ........................... C=0.1, penalty=l2, tol=0.001 -   0.0s\n",
      "[CV] C=0.1, penalty=l2, tol=0.001 ....................................\n",
      "[CV] ........................... C=0.1, penalty=l2, tol=0.001 -   0.0s\n",
      "[CV] C=0.1, penalty=l2, tol=0.01 .....................................\n",
      "[CV] ............................ C=0.1, penalty=l2, tol=0.01 -   0.0s\n",
      "[CV] C=0.1, penalty=l2, tol=0.01 .....................................\n",
      "[CV] ............................ C=0.1, penalty=l2, tol=0.01 -   0.0s\n",
      "[CV] C=0.1, penalty=l2, tol=0.01 .....................................\n",
      "[CV] ............................ C=0.1, penalty=l2, tol=0.01 -   0.0s\n",
      "[CV] C=0.1, penalty=l2, tol=0.1 ......................................\n",
      "[CV] ............................. C=0.1, penalty=l2, tol=0.1 -   0.0s\n",
      "[CV] C=0.1, penalty=l2, tol=0.1 ......................................\n",
      "[CV] ............................. C=0.1, penalty=l2, tol=0.1 -   0.0s\n",
      "[CV] C=0.1, penalty=l2, tol=0.1 ......................................\n",
      "[CV] ............................. C=0.1, penalty=l2, tol=0.1 -   0.0s\n",
      "[CV] C=0.1, penalty=l2, tol=1 ........................................\n",
      "[CV] ............................... C=0.1, penalty=l2, tol=1 -   0.0s\n",
      "[CV] C=0.1, penalty=l2, tol=1 ........................................\n",
      "[CV] ............................... C=0.1, penalty=l2, tol=1 -   0.0s\n",
      "[CV] C=0.1, penalty=l2, tol=1 ........................................\n",
      "[CV] ............................... C=0.1, penalty=l2, tol=1 -   0.0s\n",
      "[CV] C=0.1, penalty=l2, tol=0.5 ......................................\n",
      "[CV] ............................. C=0.1, penalty=l2, tol=0.5 -   0.0s\n",
      "[CV] C=0.1, penalty=l2, tol=0.5 ......................................\n",
      "[CV] ............................. C=0.1, penalty=l2, tol=0.5 -   0.0s\n",
      "[CV] C=0.1, penalty=l2, tol=0.5 ......................................\n",
      "[CV] ............................. C=0.1, penalty=l2, tol=0.5 -   0.0s\n",
      "[CV] C=0.1, penalty=l2, tol=2 ........................................\n",
      "[CV] ............................... C=0.1, penalty=l2, tol=2 -   0.0s\n",
      "[CV] C=0.1, penalty=l2, tol=2 ........................................\n",
      "[CV] ............................... C=0.1, penalty=l2, tol=2 -   0.0s\n",
      "[CV] C=0.1, penalty=l2, tol=2 ........................................\n",
      "[CV] ............................... C=0.1, penalty=l2, tol=2 -   0.0s\n",
      "[CV] C=0.5, penalty=l1, tol=1e-05 ....................................\n",
      "[CV] ........................... C=0.5, penalty=l1, tol=1e-05 -   0.0s\n",
      "[CV] C=0.5, penalty=l1, tol=1e-05 ....................................\n",
      "[CV] ........................... C=0.5, penalty=l1, tol=1e-05 -   0.0s\n",
      "[CV] C=0.5, penalty=l1, tol=1e-05 ....................................\n",
      "[CV] ........................... C=0.5, penalty=l1, tol=1e-05 -   0.0s\n",
      "[CV] C=0.5, penalty=l1, tol=0.0001 ...................................\n",
      "[CV] .......................... C=0.5, penalty=l1, tol=0.0001 -   0.0s\n",
      "[CV] C=0.5, penalty=l1, tol=0.0001 ...................................\n",
      "[CV] .......................... C=0.5, penalty=l1, tol=0.0001 -   0.0s\n",
      "[CV] C=0.5, penalty=l1, tol=0.0001 ...................................\n",
      "[CV] .......................... C=0.5, penalty=l1, tol=0.0001 -   0.0s\n",
      "[CV] C=0.5, penalty=l1, tol=0.001 ....................................\n",
      "[CV] ........................... C=0.5, penalty=l1, tol=0.001 -   0.0s\n",
      "[CV] C=0.5, penalty=l1, tol=0.001 ....................................\n"
     ]
    },
    {
     "name": "stdout",
     "output_type": "stream",
     "text": [
      "[CV] ........................... C=0.5, penalty=l1, tol=0.001 -   0.0s\n",
      "[CV] C=0.5, penalty=l1, tol=0.001 ....................................\n",
      "[CV] ........................... C=0.5, penalty=l1, tol=0.001 -   0.0s\n",
      "[CV] C=0.5, penalty=l1, tol=0.01 .....................................\n",
      "[CV] ............................ C=0.5, penalty=l1, tol=0.01 -   0.0s\n",
      "[CV] C=0.5, penalty=l1, tol=0.01 .....................................\n",
      "[CV] ............................ C=0.5, penalty=l1, tol=0.01 -   0.0s\n",
      "[CV] C=0.5, penalty=l1, tol=0.01 .....................................\n",
      "[CV] ............................ C=0.5, penalty=l1, tol=0.01 -   0.0s\n",
      "[CV] C=0.5, penalty=l1, tol=0.1 ......................................\n",
      "[CV] ............................. C=0.5, penalty=l1, tol=0.1 -   0.0s\n",
      "[CV] C=0.5, penalty=l1, tol=0.1 ......................................\n",
      "[CV] ............................. C=0.5, penalty=l1, tol=0.1 -   0.0s\n",
      "[CV] C=0.5, penalty=l1, tol=0.1 ......................................\n",
      "[CV] ............................. C=0.5, penalty=l1, tol=0.1 -   0.0s\n",
      "[CV] C=0.5, penalty=l1, tol=1 ........................................\n",
      "[CV] ............................... C=0.5, penalty=l1, tol=1 -   0.0s\n",
      "[CV] C=0.5, penalty=l1, tol=1 ........................................\n",
      "[CV] ............................... C=0.5, penalty=l1, tol=1 -   0.0s\n",
      "[CV] C=0.5, penalty=l1, tol=1 ........................................\n",
      "[CV] ............................... C=0.5, penalty=l1, tol=1 -   0.0s\n",
      "[CV] C=0.5, penalty=l1, tol=0.5 ......................................\n",
      "[CV] ............................. C=0.5, penalty=l1, tol=0.5 -   0.0s\n",
      "[CV] C=0.5, penalty=l1, tol=0.5 ......................................\n",
      "[CV] ............................. C=0.5, penalty=l1, tol=0.5 -   0.0s\n",
      "[CV] C=0.5, penalty=l1, tol=0.5 ......................................\n",
      "[CV] ............................. C=0.5, penalty=l1, tol=0.5 -   0.0s\n",
      "[CV] C=0.5, penalty=l1, tol=2 ........................................\n",
      "[CV] ............................... C=0.5, penalty=l1, tol=2 -   0.0s\n",
      "[CV] C=0.5, penalty=l1, tol=2 ........................................\n",
      "[CV] ............................... C=0.5, penalty=l1, tol=2 -   0.0s\n",
      "[CV] C=0.5, penalty=l1, tol=2 ........................................\n",
      "[CV] ............................... C=0.5, penalty=l1, tol=2 -   0.0s\n",
      "[CV] C=0.5, penalty=l2, tol=1e-05 ....................................\n",
      "[CV] ........................... C=0.5, penalty=l2, tol=1e-05 -   0.0s\n",
      "[CV] C=0.5, penalty=l2, tol=1e-05 ....................................\n",
      "[CV] ........................... C=0.5, penalty=l2, tol=1e-05 -   0.0s\n",
      "[CV] C=0.5, penalty=l2, tol=1e-05 ....................................\n",
      "[CV] ........................... C=0.5, penalty=l2, tol=1e-05 -   0.0s\n",
      "[CV] C=0.5, penalty=l2, tol=0.0001 ...................................\n",
      "[CV] .......................... C=0.5, penalty=l2, tol=0.0001 -   0.0s\n",
      "[CV] C=0.5, penalty=l2, tol=0.0001 ...................................\n",
      "[CV] .......................... C=0.5, penalty=l2, tol=0.0001 -   0.0s\n",
      "[CV] C=0.5, penalty=l2, tol=0.0001 ...................................\n",
      "[CV] .......................... C=0.5, penalty=l2, tol=0.0001 -   0.0s\n",
      "[CV] C=0.5, penalty=l2, tol=0.001 ....................................\n",
      "[CV] ........................... C=0.5, penalty=l2, tol=0.001 -   0.0s\n",
      "[CV] C=0.5, penalty=l2, tol=0.001 ....................................\n",
      "[CV] ........................... C=0.5, penalty=l2, tol=0.001 -   0.0s\n",
      "[CV] C=0.5, penalty=l2, tol=0.001 ....................................\n",
      "[CV] ........................... C=0.5, penalty=l2, tol=0.001 -   0.0s\n",
      "[CV] C=0.5, penalty=l2, tol=0.01 .....................................\n",
      "[CV] ............................ C=0.5, penalty=l2, tol=0.01 -   0.0s\n",
      "[CV] C=0.5, penalty=l2, tol=0.01 .....................................\n",
      "[CV] ............................ C=0.5, penalty=l2, tol=0.01 -   0.0s\n",
      "[CV] C=0.5, penalty=l2, tol=0.01 .....................................\n",
      "[CV] ............................ C=0.5, penalty=l2, tol=0.01 -   0.0s\n",
      "[CV] C=0.5, penalty=l2, tol=0.1 ......................................\n",
      "[CV] ............................. C=0.5, penalty=l2, tol=0.1 -   0.0s\n",
      "[CV] C=0.5, penalty=l2, tol=0.1 ......................................\n",
      "[CV] ............................. C=0.5, penalty=l2, tol=0.1 -   0.0s\n",
      "[CV] C=0.5, penalty=l2, tol=0.1 ......................................\n",
      "[CV] ............................. C=0.5, penalty=l2, tol=0.1 -   0.0s\n",
      "[CV] C=0.5, penalty=l2, tol=1 ........................................\n",
      "[CV] ............................... C=0.5, penalty=l2, tol=1 -   0.0s\n",
      "[CV] C=0.5, penalty=l2, tol=1 ........................................\n",
      "[CV] ............................... C=0.5, penalty=l2, tol=1 -   0.0s\n",
      "[CV] C=0.5, penalty=l2, tol=1 ........................................\n",
      "[CV] ............................... C=0.5, penalty=l2, tol=1 -   0.0s\n",
      "[CV] C=0.5, penalty=l2, tol=0.5 ......................................\n",
      "[CV] ............................. C=0.5, penalty=l2, tol=0.5 -   0.0s\n",
      "[CV] C=0.5, penalty=l2, tol=0.5 ......................................\n",
      "[CV] ............................. C=0.5, penalty=l2, tol=0.5 -   0.0s\n",
      "[CV] C=0.5, penalty=l2, tol=0.5 ......................................\n",
      "[CV] ............................. C=0.5, penalty=l2, tol=0.5 -   0.0s\n",
      "[CV] C=0.5, penalty=l2, tol=2 ........................................\n",
      "[CV] ............................... C=0.5, penalty=l2, tol=2 -   0.0s\n",
      "[CV] C=0.5, penalty=l2, tol=2 ........................................\n",
      "[CV] ............................... C=0.5, penalty=l2, tol=2 -   0.0s\n",
      "[CV] C=0.5, penalty=l2, tol=2 ........................................\n",
      "[CV] ............................... C=0.5, penalty=l2, tol=2 -   0.0s\n",
      "[CV] C=1, penalty=l1, tol=1e-05 ......................................\n",
      "[CV] ............................. C=1, penalty=l1, tol=1e-05 -   0.0s\n",
      "[CV] C=1, penalty=l1, tol=1e-05 ......................................\n",
      "[CV] ............................. C=1, penalty=l1, tol=1e-05 -   0.0s\n",
      "[CV] C=1, penalty=l1, tol=1e-05 ......................................\n",
      "[CV] ............................. C=1, penalty=l1, tol=1e-05 -   0.0s\n",
      "[CV] C=1, penalty=l1, tol=0.0001 .....................................\n",
      "[CV] ............................ C=1, penalty=l1, tol=0.0001 -   0.0s\n",
      "[CV] C=1, penalty=l1, tol=0.0001 .....................................\n",
      "[CV] ............................ C=1, penalty=l1, tol=0.0001 -   0.0s\n",
      "[CV] C=1, penalty=l1, tol=0.0001 .....................................\n",
      "[CV] ............................ C=1, penalty=l1, tol=0.0001 -   0.0s\n",
      "[CV] C=1, penalty=l1, tol=0.001 ......................................\n",
      "[CV] ............................. C=1, penalty=l1, tol=0.001 -   0.0s\n",
      "[CV] C=1, penalty=l1, tol=0.001 ......................................\n",
      "[CV] ............................. C=1, penalty=l1, tol=0.001 -   0.0s\n",
      "[CV] C=1, penalty=l1, tol=0.001 ......................................\n",
      "[CV] ............................. C=1, penalty=l1, tol=0.001 -   0.0s\n",
      "[CV] C=1, penalty=l1, tol=0.01 .......................................\n",
      "[CV] .............................. C=1, penalty=l1, tol=0.01 -   0.0s\n",
      "[CV] C=1, penalty=l1, tol=0.01 .......................................\n",
      "[CV] .............................. C=1, penalty=l1, tol=0.01 -   0.0s\n",
      "[CV] C=1, penalty=l1, tol=0.01 .......................................\n",
      "[CV] .............................. C=1, penalty=l1, tol=0.01 -   0.0s\n",
      "[CV] C=1, penalty=l1, tol=0.1 ........................................\n",
      "[CV] ............................... C=1, penalty=l1, tol=0.1 -   0.0s\n",
      "[CV] C=1, penalty=l1, tol=0.1 ........................................\n",
      "[CV] ............................... C=1, penalty=l1, tol=0.1 -   0.0s\n",
      "[CV] C=1, penalty=l1, tol=0.1 ........................................\n",
      "[CV] ............................... C=1, penalty=l1, tol=0.1 -   0.0s\n",
      "[CV] C=1, penalty=l1, tol=1 ..........................................\n",
      "[CV] ................................. C=1, penalty=l1, tol=1 -   0.0s\n",
      "[CV] C=1, penalty=l1, tol=1 ..........................................\n",
      "[CV] ................................. C=1, penalty=l1, tol=1 -   0.0s\n",
      "[CV] C=1, penalty=l1, tol=1 ..........................................\n",
      "[CV] ................................. C=1, penalty=l1, tol=1 -   0.0s\n",
      "[CV] C=1, penalty=l1, tol=0.5 ........................................\n",
      "[CV] ............................... C=1, penalty=l1, tol=0.5 -   0.0s\n",
      "[CV] C=1, penalty=l1, tol=0.5 ........................................\n",
      "[CV] ............................... C=1, penalty=l1, tol=0.5 -   0.0s\n",
      "[CV] C=1, penalty=l1, tol=0.5 ........................................\n",
      "[CV] ............................... C=1, penalty=l1, tol=0.5 -   0.0s\n",
      "[CV] C=1, penalty=l1, tol=2 ..........................................\n"
     ]
    },
    {
     "name": "stdout",
     "output_type": "stream",
     "text": [
      "[CV] ................................. C=1, penalty=l1, tol=2 -   0.0s\n",
      "[CV] C=1, penalty=l1, tol=2 ..........................................\n",
      "[CV] ................................. C=1, penalty=l1, tol=2 -   0.0s\n",
      "[CV] C=1, penalty=l1, tol=2 ..........................................\n",
      "[CV] ................................. C=1, penalty=l1, tol=2 -   0.0s\n",
      "[CV] C=1, penalty=l2, tol=1e-05 ......................................\n",
      "[CV] ............................. C=1, penalty=l2, tol=1e-05 -   0.0s\n",
      "[CV] C=1, penalty=l2, tol=1e-05 ......................................\n",
      "[CV] ............................. C=1, penalty=l2, tol=1e-05 -   0.0s\n",
      "[CV] C=1, penalty=l2, tol=1e-05 ......................................\n",
      "[CV] ............................. C=1, penalty=l2, tol=1e-05 -   0.0s\n",
      "[CV] C=1, penalty=l2, tol=0.0001 .....................................\n",
      "[CV] ............................ C=1, penalty=l2, tol=0.0001 -   0.0s\n",
      "[CV] C=1, penalty=l2, tol=0.0001 .....................................\n",
      "[CV] ............................ C=1, penalty=l2, tol=0.0001 -   0.0s\n",
      "[CV] C=1, penalty=l2, tol=0.0001 .....................................\n",
      "[CV] ............................ C=1, penalty=l2, tol=0.0001 -   0.0s\n",
      "[CV] C=1, penalty=l2, tol=0.001 ......................................\n",
      "[CV] ............................. C=1, penalty=l2, tol=0.001 -   0.0s\n",
      "[CV] C=1, penalty=l2, tol=0.001 ......................................\n",
      "[CV] ............................. C=1, penalty=l2, tol=0.001 -   0.0s\n",
      "[CV] C=1, penalty=l2, tol=0.001 ......................................\n",
      "[CV] ............................. C=1, penalty=l2, tol=0.001 -   0.0s\n",
      "[CV] C=1, penalty=l2, tol=0.01 .......................................\n",
      "[CV] .............................. C=1, penalty=l2, tol=0.01 -   0.0s\n",
      "[CV] C=1, penalty=l2, tol=0.01 .......................................\n",
      "[CV] .............................. C=1, penalty=l2, tol=0.01 -   0.0s\n",
      "[CV] C=1, penalty=l2, tol=0.01 .......................................\n",
      "[CV] .............................. C=1, penalty=l2, tol=0.01 -   0.0s\n",
      "[CV] C=1, penalty=l2, tol=0.1 ........................................\n",
      "[CV] ............................... C=1, penalty=l2, tol=0.1 -   0.0s\n",
      "[CV] C=1, penalty=l2, tol=0.1 ........................................\n",
      "[CV] ............................... C=1, penalty=l2, tol=0.1 -   0.0s\n",
      "[CV] C=1, penalty=l2, tol=0.1 ........................................\n",
      "[CV] ............................... C=1, penalty=l2, tol=0.1 -   0.0s\n",
      "[CV] C=1, penalty=l2, tol=1 ..........................................\n",
      "[CV] ................................. C=1, penalty=l2, tol=1 -   0.0s\n",
      "[CV] C=1, penalty=l2, tol=1 ..........................................\n",
      "[CV] ................................. C=1, penalty=l2, tol=1 -   0.0s\n",
      "[CV] C=1, penalty=l2, tol=1 ..........................................\n",
      "[CV] ................................. C=1, penalty=l2, tol=1 -   0.0s\n",
      "[CV] C=1, penalty=l2, tol=0.5 ........................................\n",
      "[CV] ............................... C=1, penalty=l2, tol=0.5 -   0.0s\n",
      "[CV] C=1, penalty=l2, tol=0.5 ........................................\n",
      "[CV] ............................... C=1, penalty=l2, tol=0.5 -   0.0s\n",
      "[CV] C=1, penalty=l2, tol=0.5 ........................................\n",
      "[CV] ............................... C=1, penalty=l2, tol=0.5 -   0.0s\n",
      "[CV] C=1, penalty=l2, tol=2 ..........................................\n",
      "[CV] ................................. C=1, penalty=l2, tol=2 -   0.0s\n",
      "[CV] C=1, penalty=l2, tol=2 ..........................................\n",
      "[CV] ................................. C=1, penalty=l2, tol=2 -   0.0s\n",
      "[CV] C=1, penalty=l2, tol=2 ..........................................\n",
      "[CV] ................................. C=1, penalty=l2, tol=2 -   0.0s\n",
      "[CV] C=1.2, penalty=l1, tol=1e-05 ....................................\n",
      "[CV] ........................... C=1.2, penalty=l1, tol=1e-05 -   0.0s\n",
      "[CV] C=1.2, penalty=l1, tol=1e-05 ....................................\n",
      "[CV] ........................... C=1.2, penalty=l1, tol=1e-05 -   0.0s\n",
      "[CV] C=1.2, penalty=l1, tol=1e-05 ....................................\n",
      "[CV] ........................... C=1.2, penalty=l1, tol=1e-05 -   0.0s\n",
      "[CV] C=1.2, penalty=l1, tol=0.0001 ...................................\n",
      "[CV] .......................... C=1.2, penalty=l1, tol=0.0001 -   0.0s\n",
      "[CV] C=1.2, penalty=l1, tol=0.0001 ...................................\n",
      "[CV] .......................... C=1.2, penalty=l1, tol=0.0001 -   0.0s\n",
      "[CV] C=1.2, penalty=l1, tol=0.0001 ...................................\n",
      "[CV] .......................... C=1.2, penalty=l1, tol=0.0001 -   0.0s\n",
      "[CV] C=1.2, penalty=l1, tol=0.001 ....................................\n",
      "[CV] ........................... C=1.2, penalty=l1, tol=0.001 -   0.0s\n",
      "[CV] C=1.2, penalty=l1, tol=0.001 ....................................\n",
      "[CV] ........................... C=1.2, penalty=l1, tol=0.001 -   0.0s\n",
      "[CV] C=1.2, penalty=l1, tol=0.001 ....................................\n",
      "[CV] ........................... C=1.2, penalty=l1, tol=0.001 -   0.0s\n",
      "[CV] C=1.2, penalty=l1, tol=0.01 .....................................\n",
      "[CV] ............................ C=1.2, penalty=l1, tol=0.01 -   0.0s\n",
      "[CV] C=1.2, penalty=l1, tol=0.01 .....................................\n",
      "[CV] ............................ C=1.2, penalty=l1, tol=0.01 -   0.0s\n",
      "[CV] C=1.2, penalty=l1, tol=0.01 .....................................\n",
      "[CV] ............................ C=1.2, penalty=l1, tol=0.01 -   0.0s\n",
      "[CV] C=1.2, penalty=l1, tol=0.1 ......................................\n",
      "[CV] ............................. C=1.2, penalty=l1, tol=0.1 -   0.0s\n",
      "[CV] C=1.2, penalty=l1, tol=0.1 ......................................\n",
      "[CV] ............................. C=1.2, penalty=l1, tol=0.1 -   0.0s\n",
      "[CV] C=1.2, penalty=l1, tol=0.1 ......................................\n",
      "[CV] ............................. C=1.2, penalty=l1, tol=0.1 -   0.0s\n",
      "[CV] C=1.2, penalty=l1, tol=1 ........................................\n",
      "[CV] ............................... C=1.2, penalty=l1, tol=1 -   0.0s\n",
      "[CV] C=1.2, penalty=l1, tol=1 ........................................\n",
      "[CV] ............................... C=1.2, penalty=l1, tol=1 -   0.0s\n",
      "[CV] C=1.2, penalty=l1, tol=1 ........................................\n",
      "[CV] ............................... C=1.2, penalty=l1, tol=1 -   0.0s\n",
      "[CV] C=1.2, penalty=l1, tol=0.5 ......................................\n",
      "[CV] ............................. C=1.2, penalty=l1, tol=0.5 -   0.0s\n",
      "[CV] C=1.2, penalty=l1, tol=0.5 ......................................\n",
      "[CV] ............................. C=1.2, penalty=l1, tol=0.5 -   0.0s\n",
      "[CV] C=1.2, penalty=l1, tol=0.5 ......................................\n",
      "[CV] ............................. C=1.2, penalty=l1, tol=0.5 -   0.0s\n",
      "[CV] C=1.2, penalty=l1, tol=2 ........................................\n",
      "[CV] ............................... C=1.2, penalty=l1, tol=2 -   0.0s\n",
      "[CV] C=1.2, penalty=l1, tol=2 ........................................\n",
      "[CV] ............................... C=1.2, penalty=l1, tol=2 -   0.0s\n",
      "[CV] C=1.2, penalty=l1, tol=2 ........................................\n",
      "[CV] ............................... C=1.2, penalty=l1, tol=2 -   0.0s\n",
      "[CV] C=1.2, penalty=l2, tol=1e-05 ....................................\n",
      "[CV] ........................... C=1.2, penalty=l2, tol=1e-05 -   0.0s\n",
      "[CV] C=1.2, penalty=l2, tol=1e-05 ....................................\n",
      "[CV] ........................... C=1.2, penalty=l2, tol=1e-05 -   0.0s\n",
      "[CV] C=1.2, penalty=l2, tol=1e-05 ....................................\n",
      "[CV] ........................... C=1.2, penalty=l2, tol=1e-05 -   0.0s\n",
      "[CV] C=1.2, penalty=l2, tol=0.0001 ...................................\n",
      "[CV] .......................... C=1.2, penalty=l2, tol=0.0001 -   0.0s\n",
      "[CV] C=1.2, penalty=l2, tol=0.0001 ...................................\n",
      "[CV] .......................... C=1.2, penalty=l2, tol=0.0001 -   0.0s\n",
      "[CV] C=1.2, penalty=l2, tol=0.0001 ...................................\n",
      "[CV] .......................... C=1.2, penalty=l2, tol=0.0001 -   0.0s\n",
      "[CV] C=1.2, penalty=l2, tol=0.001 ....................................\n",
      "[CV] ........................... C=1.2, penalty=l2, tol=0.001 -   0.0s\n",
      "[CV] C=1.2, penalty=l2, tol=0.001 ....................................\n",
      "[CV] ........................... C=1.2, penalty=l2, tol=0.001 -   0.0s\n",
      "[CV] C=1.2, penalty=l2, tol=0.001 ....................................\n",
      "[CV] ........................... C=1.2, penalty=l2, tol=0.001 -   0.0s\n",
      "[CV] C=1.2, penalty=l2, tol=0.01 .....................................\n",
      "[CV] ............................ C=1.2, penalty=l2, tol=0.01 -   0.0s\n",
      "[CV] C=1.2, penalty=l2, tol=0.01 .....................................\n",
      "[CV] ............................ C=1.2, penalty=l2, tol=0.01 -   0.0s\n",
      "[CV] C=1.2, penalty=l2, tol=0.01 .....................................\n"
     ]
    },
    {
     "name": "stdout",
     "output_type": "stream",
     "text": [
      "[CV] ............................ C=1.2, penalty=l2, tol=0.01 -   0.0s\n",
      "[CV] C=1.2, penalty=l2, tol=0.1 ......................................\n",
      "[CV] ............................. C=1.2, penalty=l2, tol=0.1 -   0.0s\n",
      "[CV] C=1.2, penalty=l2, tol=0.1 ......................................\n",
      "[CV] ............................. C=1.2, penalty=l2, tol=0.1 -   0.0s\n",
      "[CV] C=1.2, penalty=l2, tol=0.1 ......................................\n",
      "[CV] ............................. C=1.2, penalty=l2, tol=0.1 -   0.0s\n",
      "[CV] C=1.2, penalty=l2, tol=1 ........................................\n",
      "[CV] ............................... C=1.2, penalty=l2, tol=1 -   0.0s\n",
      "[CV] C=1.2, penalty=l2, tol=1 ........................................\n",
      "[CV] ............................... C=1.2, penalty=l2, tol=1 -   0.0s\n",
      "[CV] C=1.2, penalty=l2, tol=1 ........................................\n",
      "[CV] ............................... C=1.2, penalty=l2, tol=1 -   0.0s\n",
      "[CV] C=1.2, penalty=l2, tol=0.5 ......................................\n",
      "[CV] ............................. C=1.2, penalty=l2, tol=0.5 -   0.0s\n",
      "[CV] C=1.2, penalty=l2, tol=0.5 ......................................\n",
      "[CV] ............................. C=1.2, penalty=l2, tol=0.5 -   0.0s\n",
      "[CV] C=1.2, penalty=l2, tol=0.5 ......................................\n",
      "[CV] ............................. C=1.2, penalty=l2, tol=0.5 -   0.0s\n",
      "[CV] C=1.2, penalty=l2, tol=2 ........................................\n",
      "[CV] ............................... C=1.2, penalty=l2, tol=2 -   0.0s\n",
      "[CV] C=1.2, penalty=l2, tol=2 ........................................\n",
      "[CV] ............................... C=1.2, penalty=l2, tol=2 -   0.0s\n",
      "[CV] C=1.2, penalty=l2, tol=2 ........................................\n",
      "[CV] ............................... C=1.2, penalty=l2, tol=2 -   0.0s\n"
     ]
    },
    {
     "name": "stderr",
     "output_type": "stream",
     "text": [
      "[Parallel(n_jobs=1)]: Done 336 out of 336 | elapsed:    5.1s finished\n"
     ]
    }
   ],
   "source": [
    "grd=grid.fit(X,y)"
   ]
  },
  {
   "cell_type": "code",
   "execution_count": 32,
   "metadata": {},
   "outputs": [
    {
     "data": {
      "text/plain": [
       "{'C': 1, 'penalty': 'l1', 'tol': 1e-05}"
      ]
     },
     "execution_count": 32,
     "metadata": {},
     "output_type": "execute_result"
    }
   ],
   "source": [
    "grd.best_params_"
   ]
  },
  {
   "cell_type": "code",
   "execution_count": 33,
   "metadata": {},
   "outputs": [],
   "source": [
    "est=grd.best_estimator_"
   ]
  },
  {
   "cell_type": "code",
   "execution_count": 34,
   "metadata": {},
   "outputs": [],
   "source": [
    "y=data['active']\n",
    "X=data[['active','age','18-34','35-54','55+','sex','account','payroll','segment']]\n",
    "x_train,x_test,y_train,y_test=train_test_split(X,y,test_size=0.33,random_state=42)"
   ]
  },
  {
   "cell_type": "code",
   "execution_count": 35,
   "metadata": {},
   "outputs": [],
   "source": [
    "x_train,y_train,x_test=oversample(x_train,x_test)"
   ]
  },
  {
   "cell_type": "code",
   "execution_count": 36,
   "metadata": {},
   "outputs": [
    {
     "data": {
      "text/plain": [
       "LogisticRegression(C=1, class_weight=None, dual=False, fit_intercept=True,\n",
       "          intercept_scaling=1, max_iter=100, multi_class='ovr', n_jobs=1,\n",
       "          penalty='l1', random_state=None, solver='liblinear', tol=1e-05,\n",
       "          verbose=0, warm_start=False)"
      ]
     },
     "execution_count": 36,
     "metadata": {},
     "output_type": "execute_result"
    }
   ],
   "source": [
    "est.fit(x_train,y_train)"
   ]
  },
  {
   "cell_type": "code",
   "execution_count": 37,
   "metadata": {},
   "outputs": [],
   "source": [
    "pred=est.predict(x_test)"
   ]
  },
  {
   "cell_type": "code",
   "execution_count": 38,
   "metadata": {},
   "outputs": [
    {
     "name": "stdout",
     "output_type": "stream",
     "text": [
      "1558 / 1906\n",
      "0.8174186778593914\n",
      "[[1508  109]\n",
      " [ 239   50]]\n",
      "             precision    recall  f1-score   support\n",
      "\n",
      "          0       0.86      0.93      0.90      1617\n",
      "          1       0.31      0.17      0.22       289\n",
      "\n",
      "avg / total       0.78      0.82      0.79      1906\n",
      "\n"
     ]
    }
   ],
   "source": [
    "print(metrics.accuracy_score(y_test,pred,normalize=False),'/',len(y_test))\n",
    "print(metrics.accuracy_score(y_test,pred,normalize=True))\n",
    "print(metrics.confusion_matrix(y_test,pred))\n",
    "print(metrics.classification_report(y_test,pred))"
   ]
  },
  {
   "cell_type": "code",
   "execution_count": null,
   "metadata": {},
   "outputs": [],
   "source": []
  },
  {
   "cell_type": "code",
   "execution_count": null,
   "metadata": {},
   "outputs": [],
   "source": []
  }
 ],
 "metadata": {
  "kernelspec": {
   "display_name": "Python 3",
   "language": "python",
   "name": "python3"
  },
  "language_info": {
   "codemirror_mode": {
    "name": "ipython",
    "version": 3
   },
   "file_extension": ".py",
   "mimetype": "text/x-python",
   "name": "python",
   "nbconvert_exporter": "python",
   "pygments_lexer": "ipython3",
   "version": "3.6.5"
  }
 },
 "nbformat": 4,
 "nbformat_minor": 2
}
